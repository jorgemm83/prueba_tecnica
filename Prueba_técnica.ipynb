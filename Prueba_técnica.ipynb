{
  "nbformat": 4,
  "nbformat_minor": 0,
  "metadata": {
    "colab": {
      "provenance": [],
      "authorship_tag": "ABX9TyNGnx6QKgIq4DEERoFUM/0M",
      "include_colab_link": true
    },
    "kernelspec": {
      "name": "python3",
      "display_name": "Python 3"
    },
    "language_info": {
      "name": "python"
    }
  },
  "cells": [
    {
      "cell_type": "markdown",
      "metadata": {
        "id": "view-in-github",
        "colab_type": "text"
      },
      "source": [
        "<a href=\"https://colab.research.google.com/github/jorgemm83/prueba_tecnica/blob/main/Prueba_t%C3%A9cnica.ipynb\" target=\"_parent\"><img src=\"https://colab.research.google.com/assets/colab-badge.svg\" alt=\"Open In Colab\"/></a>"
      ]
    },
    {
      "cell_type": "markdown",
      "source": [
        "#1. Instalación de bibliotecas necesarias"
      ],
      "metadata": {
        "id": "k_CqYuLwiGm6"
      }
    },
    {
      "cell_type": "code",
      "source": [
        "!pip install requests pandas scikit-learn"
      ],
      "metadata": {
        "colab": {
          "base_uri": "https://localhost:8080/"
        },
        "id": "kdsZY6TSR2cN",
        "outputId": "6687641b-366d-4b52-f118-c4d7ddaebc3a"
      },
      "execution_count": 77,
      "outputs": [
        {
          "output_type": "stream",
          "name": "stdout",
          "text": [
            "Requirement already satisfied: requests in /usr/local/lib/python3.10/dist-packages (2.32.3)\n",
            "Requirement already satisfied: pandas in /usr/local/lib/python3.10/dist-packages (2.1.4)\n",
            "Requirement already satisfied: scikit-learn in /usr/local/lib/python3.10/dist-packages (1.5.2)\n",
            "Requirement already satisfied: charset-normalizer<4,>=2 in /usr/local/lib/python3.10/dist-packages (from requests) (3.3.2)\n",
            "Requirement already satisfied: idna<4,>=2.5 in /usr/local/lib/python3.10/dist-packages (from requests) (3.10)\n",
            "Requirement already satisfied: urllib3<3,>=1.21.1 in /usr/local/lib/python3.10/dist-packages (from requests) (2.2.3)\n",
            "Requirement already satisfied: certifi>=2017.4.17 in /usr/local/lib/python3.10/dist-packages (from requests) (2024.8.30)\n",
            "Requirement already satisfied: numpy<2,>=1.22.4 in /usr/local/lib/python3.10/dist-packages (from pandas) (1.26.4)\n",
            "Requirement already satisfied: python-dateutil>=2.8.2 in /usr/local/lib/python3.10/dist-packages (from pandas) (2.8.2)\n",
            "Requirement already satisfied: pytz>=2020.1 in /usr/local/lib/python3.10/dist-packages (from pandas) (2024.2)\n",
            "Requirement already satisfied: tzdata>=2022.1 in /usr/local/lib/python3.10/dist-packages (from pandas) (2024.1)\n",
            "Requirement already satisfied: scipy>=1.6.0 in /usr/local/lib/python3.10/dist-packages (from scikit-learn) (1.13.1)\n",
            "Requirement already satisfied: joblib>=1.2.0 in /usr/local/lib/python3.10/dist-packages (from scikit-learn) (1.4.2)\n",
            "Requirement already satisfied: threadpoolctl>=3.1.0 in /usr/local/lib/python3.10/dist-packages (from scikit-learn) (3.5.0)\n",
            "Requirement already satisfied: six>=1.5 in /usr/local/lib/python3.10/dist-packages (from python-dateutil>=2.8.2->pandas) (1.16.0)\n"
          ]
        }
      ]
    },
    {
      "cell_type": "markdown",
      "source": [
        "#2. Obtención de Datos Financieros\n",
        "Vamos a usar datos históricos de acciones a través de la API de Alpha Vantage para variables como precios de apertura, cierre, volumen, etc."
      ],
      "metadata": {
        "id": "iiqUO1jugbOl"
      }
    },
    {
      "cell_type": "code",
      "source": [
        "import requests\n",
        "import pandas as pd\n",
        "\n",
        "\n",
        "def get_financial_data(symbol: str, interval: str):\n",
        "    #API_KEY = os.getenv('API_KEY')\n",
        "    API_KEY = 'POK20BXESBQBLR4J'\n",
        "    URL_API = 'https://www.alphavantage.co/query'\n",
        "\n",
        "    params = {\n",
        "        'function': 'TIME_SERIES_INTRADAY',\n",
        "        'symbol': symbol,\n",
        "        'interval':interval,\n",
        "        'outputsize': 'full',\n",
        "        'apikey': API_KEY,\n",
        "        'datatype': 'json'\n",
        "    }\n",
        "\n",
        "\n",
        "    # Realizar la solicitud GET a la API\n",
        "    response = requests.get(URL_API, params)\n",
        "\n",
        "    # Verificar si la solicitud fue exitosa (código 200)\n",
        "    if response.status_code == 200:\n",
        "        data = response.json()  # Convertir la respuesta a formato JSON\n",
        "\n",
        "        #print(data)\n",
        "\n",
        "         # Comprobar si la respuesta contiene datos válidos\n",
        "    if \"Time Series (\"+interval+\")\" not in data:\n",
        "        raise ValueError(\"Error al obtener datos de la API\")\n",
        "\n",
        "    # Convertir los datos a un DataFrame\n",
        "    df = pd.DataFrame.from_dict(data['Time Series ('+interval+')'], orient='index', dtype=float)\n",
        "\n",
        "    # Renombrar columnas para que tengan nombres más intuitivos\n",
        "    df.rename(columns={\n",
        "        '1. open': 'open',\n",
        "        '2. high': 'high',\n",
        "        '3. low': 'low',\n",
        "        '4. close': 'close',\n",
        "        '5. volume': 'volume'\n",
        "    }, inplace=True)\n",
        "\n",
        "    # Convertir el índice a formato de fecha\n",
        "    df['date'] = pd.to_datetime(df.index)\n",
        "    # Procesar los datos\n",
        "    df = df.sort_values('date')\n",
        "\n",
        "    return df\n",
        "\n",
        "\n",
        "# Obtener datos de IBM (IBM)\n",
        "symbol = 'IBM'\n",
        "interval='5min'\n",
        "financial_data = get_financial_data(symbol, interval)\n",
        "\n",
        "# Mostrar los primeros registros\n",
        "financial_data.head()"
      ],
      "metadata": {
        "colab": {
          "base_uri": "https://localhost:8080/",
          "height": 206
        },
        "id": "VcJSs0KqR3Iy",
        "outputId": "aa45c9ca-0479-444b-d0b1-b710de20c8aa"
      },
      "execution_count": 78,
      "outputs": [
        {
          "output_type": "execute_result",
          "data": {
            "text/plain": [
              "                       open    high     low   close  volume  \\\n",
              "2024-08-26 04:00:00  196.20  196.20  196.00  196.00     6.0   \n",
              "2024-08-26 04:05:00  195.80  196.38  195.68  196.28   176.0   \n",
              "2024-08-26 04:35:00  195.98  195.98  195.98  195.98    19.0   \n",
              "2024-08-26 04:40:00  196.28  196.28  196.28  196.28     1.0   \n",
              "2024-08-26 05:20:00  195.98  195.98  195.98  195.98     1.0   \n",
              "\n",
              "                                   date  \n",
              "2024-08-26 04:00:00 2024-08-26 04:00:00  \n",
              "2024-08-26 04:05:00 2024-08-26 04:05:00  \n",
              "2024-08-26 04:35:00 2024-08-26 04:35:00  \n",
              "2024-08-26 04:40:00 2024-08-26 04:40:00  \n",
              "2024-08-26 05:20:00 2024-08-26 05:20:00  "
            ],
            "text/html": [
              "\n",
              "  <div id=\"df-7a0c883c-dcb0-4a4b-b1c1-7f620bec95ee\" class=\"colab-df-container\">\n",
              "    <div>\n",
              "<style scoped>\n",
              "    .dataframe tbody tr th:only-of-type {\n",
              "        vertical-align: middle;\n",
              "    }\n",
              "\n",
              "    .dataframe tbody tr th {\n",
              "        vertical-align: top;\n",
              "    }\n",
              "\n",
              "    .dataframe thead th {\n",
              "        text-align: right;\n",
              "    }\n",
              "</style>\n",
              "<table border=\"1\" class=\"dataframe\">\n",
              "  <thead>\n",
              "    <tr style=\"text-align: right;\">\n",
              "      <th></th>\n",
              "      <th>open</th>\n",
              "      <th>high</th>\n",
              "      <th>low</th>\n",
              "      <th>close</th>\n",
              "      <th>volume</th>\n",
              "      <th>date</th>\n",
              "    </tr>\n",
              "  </thead>\n",
              "  <tbody>\n",
              "    <tr>\n",
              "      <th>2024-08-26 04:00:00</th>\n",
              "      <td>196.20</td>\n",
              "      <td>196.20</td>\n",
              "      <td>196.00</td>\n",
              "      <td>196.00</td>\n",
              "      <td>6.0</td>\n",
              "      <td>2024-08-26 04:00:00</td>\n",
              "    </tr>\n",
              "    <tr>\n",
              "      <th>2024-08-26 04:05:00</th>\n",
              "      <td>195.80</td>\n",
              "      <td>196.38</td>\n",
              "      <td>195.68</td>\n",
              "      <td>196.28</td>\n",
              "      <td>176.0</td>\n",
              "      <td>2024-08-26 04:05:00</td>\n",
              "    </tr>\n",
              "    <tr>\n",
              "      <th>2024-08-26 04:35:00</th>\n",
              "      <td>195.98</td>\n",
              "      <td>195.98</td>\n",
              "      <td>195.98</td>\n",
              "      <td>195.98</td>\n",
              "      <td>19.0</td>\n",
              "      <td>2024-08-26 04:35:00</td>\n",
              "    </tr>\n",
              "    <tr>\n",
              "      <th>2024-08-26 04:40:00</th>\n",
              "      <td>196.28</td>\n",
              "      <td>196.28</td>\n",
              "      <td>196.28</td>\n",
              "      <td>196.28</td>\n",
              "      <td>1.0</td>\n",
              "      <td>2024-08-26 04:40:00</td>\n",
              "    </tr>\n",
              "    <tr>\n",
              "      <th>2024-08-26 05:20:00</th>\n",
              "      <td>195.98</td>\n",
              "      <td>195.98</td>\n",
              "      <td>195.98</td>\n",
              "      <td>195.98</td>\n",
              "      <td>1.0</td>\n",
              "      <td>2024-08-26 05:20:00</td>\n",
              "    </tr>\n",
              "  </tbody>\n",
              "</table>\n",
              "</div>\n",
              "    <div class=\"colab-df-buttons\">\n",
              "\n",
              "  <div class=\"colab-df-container\">\n",
              "    <button class=\"colab-df-convert\" onclick=\"convertToInteractive('df-7a0c883c-dcb0-4a4b-b1c1-7f620bec95ee')\"\n",
              "            title=\"Convert this dataframe to an interactive table.\"\n",
              "            style=\"display:none;\">\n",
              "\n",
              "  <svg xmlns=\"http://www.w3.org/2000/svg\" height=\"24px\" viewBox=\"0 -960 960 960\">\n",
              "    <path d=\"M120-120v-720h720v720H120Zm60-500h600v-160H180v160Zm220 220h160v-160H400v160Zm0 220h160v-160H400v160ZM180-400h160v-160H180v160Zm440 0h160v-160H620v160ZM180-180h160v-160H180v160Zm440 0h160v-160H620v160Z\"/>\n",
              "  </svg>\n",
              "    </button>\n",
              "\n",
              "  <style>\n",
              "    .colab-df-container {\n",
              "      display:flex;\n",
              "      gap: 12px;\n",
              "    }\n",
              "\n",
              "    .colab-df-convert {\n",
              "      background-color: #E8F0FE;\n",
              "      border: none;\n",
              "      border-radius: 50%;\n",
              "      cursor: pointer;\n",
              "      display: none;\n",
              "      fill: #1967D2;\n",
              "      height: 32px;\n",
              "      padding: 0 0 0 0;\n",
              "      width: 32px;\n",
              "    }\n",
              "\n",
              "    .colab-df-convert:hover {\n",
              "      background-color: #E2EBFA;\n",
              "      box-shadow: 0px 1px 2px rgba(60, 64, 67, 0.3), 0px 1px 3px 1px rgba(60, 64, 67, 0.15);\n",
              "      fill: #174EA6;\n",
              "    }\n",
              "\n",
              "    .colab-df-buttons div {\n",
              "      margin-bottom: 4px;\n",
              "    }\n",
              "\n",
              "    [theme=dark] .colab-df-convert {\n",
              "      background-color: #3B4455;\n",
              "      fill: #D2E3FC;\n",
              "    }\n",
              "\n",
              "    [theme=dark] .colab-df-convert:hover {\n",
              "      background-color: #434B5C;\n",
              "      box-shadow: 0px 1px 3px 1px rgba(0, 0, 0, 0.15);\n",
              "      filter: drop-shadow(0px 1px 2px rgba(0, 0, 0, 0.3));\n",
              "      fill: #FFFFFF;\n",
              "    }\n",
              "  </style>\n",
              "\n",
              "    <script>\n",
              "      const buttonEl =\n",
              "        document.querySelector('#df-7a0c883c-dcb0-4a4b-b1c1-7f620bec95ee button.colab-df-convert');\n",
              "      buttonEl.style.display =\n",
              "        google.colab.kernel.accessAllowed ? 'block' : 'none';\n",
              "\n",
              "      async function convertToInteractive(key) {\n",
              "        const element = document.querySelector('#df-7a0c883c-dcb0-4a4b-b1c1-7f620bec95ee');\n",
              "        const dataTable =\n",
              "          await google.colab.kernel.invokeFunction('convertToInteractive',\n",
              "                                                    [key], {});\n",
              "        if (!dataTable) return;\n",
              "\n",
              "        const docLinkHtml = 'Like what you see? Visit the ' +\n",
              "          '<a target=\"_blank\" href=https://colab.research.google.com/notebooks/data_table.ipynb>data table notebook</a>'\n",
              "          + ' to learn more about interactive tables.';\n",
              "        element.innerHTML = '';\n",
              "        dataTable['output_type'] = 'display_data';\n",
              "        await google.colab.output.renderOutput(dataTable, element);\n",
              "        const docLink = document.createElement('div');\n",
              "        docLink.innerHTML = docLinkHtml;\n",
              "        element.appendChild(docLink);\n",
              "      }\n",
              "    </script>\n",
              "  </div>\n",
              "\n",
              "\n",
              "<div id=\"df-189ec43e-4a66-4e98-8989-007a5fe2f611\">\n",
              "  <button class=\"colab-df-quickchart\" onclick=\"quickchart('df-189ec43e-4a66-4e98-8989-007a5fe2f611')\"\n",
              "            title=\"Suggest charts\"\n",
              "            style=\"display:none;\">\n",
              "\n",
              "<svg xmlns=\"http://www.w3.org/2000/svg\" height=\"24px\"viewBox=\"0 0 24 24\"\n",
              "     width=\"24px\">\n",
              "    <g>\n",
              "        <path d=\"M19 3H5c-1.1 0-2 .9-2 2v14c0 1.1.9 2 2 2h14c1.1 0 2-.9 2-2V5c0-1.1-.9-2-2-2zM9 17H7v-7h2v7zm4 0h-2V7h2v10zm4 0h-2v-4h2v4z\"/>\n",
              "    </g>\n",
              "</svg>\n",
              "  </button>\n",
              "\n",
              "<style>\n",
              "  .colab-df-quickchart {\n",
              "      --bg-color: #E8F0FE;\n",
              "      --fill-color: #1967D2;\n",
              "      --hover-bg-color: #E2EBFA;\n",
              "      --hover-fill-color: #174EA6;\n",
              "      --disabled-fill-color: #AAA;\n",
              "      --disabled-bg-color: #DDD;\n",
              "  }\n",
              "\n",
              "  [theme=dark] .colab-df-quickchart {\n",
              "      --bg-color: #3B4455;\n",
              "      --fill-color: #D2E3FC;\n",
              "      --hover-bg-color: #434B5C;\n",
              "      --hover-fill-color: #FFFFFF;\n",
              "      --disabled-bg-color: #3B4455;\n",
              "      --disabled-fill-color: #666;\n",
              "  }\n",
              "\n",
              "  .colab-df-quickchart {\n",
              "    background-color: var(--bg-color);\n",
              "    border: none;\n",
              "    border-radius: 50%;\n",
              "    cursor: pointer;\n",
              "    display: none;\n",
              "    fill: var(--fill-color);\n",
              "    height: 32px;\n",
              "    padding: 0;\n",
              "    width: 32px;\n",
              "  }\n",
              "\n",
              "  .colab-df-quickchart:hover {\n",
              "    background-color: var(--hover-bg-color);\n",
              "    box-shadow: 0 1px 2px rgba(60, 64, 67, 0.3), 0 1px 3px 1px rgba(60, 64, 67, 0.15);\n",
              "    fill: var(--button-hover-fill-color);\n",
              "  }\n",
              "\n",
              "  .colab-df-quickchart-complete:disabled,\n",
              "  .colab-df-quickchart-complete:disabled:hover {\n",
              "    background-color: var(--disabled-bg-color);\n",
              "    fill: var(--disabled-fill-color);\n",
              "    box-shadow: none;\n",
              "  }\n",
              "\n",
              "  .colab-df-spinner {\n",
              "    border: 2px solid var(--fill-color);\n",
              "    border-color: transparent;\n",
              "    border-bottom-color: var(--fill-color);\n",
              "    animation:\n",
              "      spin 1s steps(1) infinite;\n",
              "  }\n",
              "\n",
              "  @keyframes spin {\n",
              "    0% {\n",
              "      border-color: transparent;\n",
              "      border-bottom-color: var(--fill-color);\n",
              "      border-left-color: var(--fill-color);\n",
              "    }\n",
              "    20% {\n",
              "      border-color: transparent;\n",
              "      border-left-color: var(--fill-color);\n",
              "      border-top-color: var(--fill-color);\n",
              "    }\n",
              "    30% {\n",
              "      border-color: transparent;\n",
              "      border-left-color: var(--fill-color);\n",
              "      border-top-color: var(--fill-color);\n",
              "      border-right-color: var(--fill-color);\n",
              "    }\n",
              "    40% {\n",
              "      border-color: transparent;\n",
              "      border-right-color: var(--fill-color);\n",
              "      border-top-color: var(--fill-color);\n",
              "    }\n",
              "    60% {\n",
              "      border-color: transparent;\n",
              "      border-right-color: var(--fill-color);\n",
              "    }\n",
              "    80% {\n",
              "      border-color: transparent;\n",
              "      border-right-color: var(--fill-color);\n",
              "      border-bottom-color: var(--fill-color);\n",
              "    }\n",
              "    90% {\n",
              "      border-color: transparent;\n",
              "      border-bottom-color: var(--fill-color);\n",
              "    }\n",
              "  }\n",
              "</style>\n",
              "\n",
              "  <script>\n",
              "    async function quickchart(key) {\n",
              "      const quickchartButtonEl =\n",
              "        document.querySelector('#' + key + ' button');\n",
              "      quickchartButtonEl.disabled = true;  // To prevent multiple clicks.\n",
              "      quickchartButtonEl.classList.add('colab-df-spinner');\n",
              "      try {\n",
              "        const charts = await google.colab.kernel.invokeFunction(\n",
              "            'suggestCharts', [key], {});\n",
              "      } catch (error) {\n",
              "        console.error('Error during call to suggestCharts:', error);\n",
              "      }\n",
              "      quickchartButtonEl.classList.remove('colab-df-spinner');\n",
              "      quickchartButtonEl.classList.add('colab-df-quickchart-complete');\n",
              "    }\n",
              "    (() => {\n",
              "      let quickchartButtonEl =\n",
              "        document.querySelector('#df-189ec43e-4a66-4e98-8989-007a5fe2f611 button');\n",
              "      quickchartButtonEl.style.display =\n",
              "        google.colab.kernel.accessAllowed ? 'block' : 'none';\n",
              "    })();\n",
              "  </script>\n",
              "</div>\n",
              "\n",
              "    </div>\n",
              "  </div>\n"
            ],
            "application/vnd.google.colaboratory.intrinsic+json": {
              "type": "dataframe",
              "variable_name": "financial_data",
              "summary": "{\n  \"name\": \"financial_data\",\n  \"rows\": 3199,\n  \"fields\": [\n    {\n      \"column\": \"open\",\n      \"properties\": {\n        \"dtype\": \"number\",\n        \"std\": 7.232099724920245,\n        \"min\": 195.424,\n        \"max\": 220.69,\n        \"num_unique_values\": 1665,\n        \"samples\": [\n          209.79,\n          210.11,\n          202.6375\n        ],\n        \"semantic_type\": \"\",\n        \"description\": \"\"\n      }\n    },\n    {\n      \"column\": \"high\",\n      \"properties\": {\n        \"dtype\": \"number\",\n        \"std\": 7.236009926568048,\n        \"min\": 195.5,\n        \"max\": 220.69,\n        \"num_unique_values\": 1607,\n        \"samples\": [\n          203.72,\n          214.54,\n          198.92\n        ],\n        \"semantic_type\": \"\",\n        \"description\": \"\"\n      }\n    },\n    {\n      \"column\": \"low\",\n      \"properties\": {\n        \"dtype\": \"number\",\n        \"std\": 7.23273426317221,\n        \"min\": 184.36,\n        \"max\": 220.5,\n        \"num_unique_values\": 1576,\n        \"samples\": [\n          213.6,\n          205.7,\n          217.37\n        ],\n        \"semantic_type\": \"\",\n        \"description\": \"\"\n      }\n    },\n    {\n      \"column\": \"close\",\n      \"properties\": {\n        \"dtype\": \"number\",\n        \"std\": 7.2298295466509,\n        \"min\": 195.4,\n        \"max\": 220.67,\n        \"num_unique_values\": 1696,\n        \"samples\": [\n          203.97,\n          198.56,\n          198.79\n        ],\n        \"semantic_type\": \"\",\n        \"description\": \"\"\n      }\n    },\n    {\n      \"column\": \"volume\",\n      \"properties\": {\n        \"dtype\": \"number\",\n        \"std\": 245172.72622613312,\n        \"min\": 1.0,\n        \"max\": 7909959.0,\n        \"num_unique_values\": 2079,\n        \"samples\": [\n          51511.0,\n          18823.0,\n          53680.0\n        ],\n        \"semantic_type\": \"\",\n        \"description\": \"\"\n      }\n    },\n    {\n      \"column\": \"date\",\n      \"properties\": {\n        \"dtype\": \"date\",\n        \"min\": \"2024-08-26 04:00:00\",\n        \"max\": \"2024-09-23 19:55:00\",\n        \"num_unique_values\": 3199,\n        \"samples\": [\n          \"2024-09-17 12:00:00\",\n          \"2024-09-03 19:45:00\",\n          \"2024-08-30 04:40:00\"\n        ],\n        \"semantic_type\": \"\",\n        \"description\": \"\"\n      }\n    }\n  ]\n}"
            }
          },
          "metadata": {},
          "execution_count": 78
        }
      ]
    },
    {
      "cell_type": "code",
      "source": [
        "financial_data.shape"
      ],
      "metadata": {
        "colab": {
          "base_uri": "https://localhost:8080/"
        },
        "id": "yblwJawicQmi",
        "outputId": "710e8d17-149e-4a89-b8c1-a149ccff789f"
      },
      "execution_count": 79,
      "outputs": [
        {
          "output_type": "execute_result",
          "data": {
            "text/plain": [
              "(3199, 6)"
            ]
          },
          "metadata": {},
          "execution_count": 79
        }
      ]
    },
    {
      "cell_type": "code",
      "source": [
        "data=financial_data"
      ],
      "metadata": {
        "id": "n6vST2E8kcXr"
      },
      "execution_count": 80,
      "outputs": []
    },
    {
      "cell_type": "code",
      "source": [
        "data = data.reset_index(drop=True) #Resets the index and drops the old index\n",
        "data = data.sort_values('date') #Sorts the values by date\n",
        "data = data[['date', 'open', 'high', 'low', 'close', 'volume']] #Reorders the columns so 'date' is first\n",
        "data"
      ],
      "metadata": {
        "colab": {
          "base_uri": "https://localhost:8080/",
          "height": 424
        },
        "id": "dYycAripkZ0s",
        "outputId": "139147c2-0269-492b-dba6-8f09f0b4cd2b"
      },
      "execution_count": 81,
      "outputs": [
        {
          "output_type": "execute_result",
          "data": {
            "text/plain": [
              "                    date    open      high     low     close  volume\n",
              "0    2024-08-26 04:00:00  196.20  196.2000  196.00  196.0000     6.0\n",
              "1    2024-08-26 04:05:00  195.80  196.3800  195.68  196.2800   176.0\n",
              "2    2024-08-26 04:35:00  195.98  195.9800  195.98  195.9800    19.0\n",
              "3    2024-08-26 04:40:00  196.28  196.2800  196.28  196.2800     1.0\n",
              "4    2024-08-26 05:20:00  195.98  195.9800  195.98  195.9800     1.0\n",
              "...                  ...     ...       ...     ...       ...     ...\n",
              "3194 2024-09-23 19:25:00  220.40  220.4045  220.40  220.4045     7.0\n",
              "3195 2024-09-23 19:30:00  220.48  220.4800  220.40  220.4000    14.0\n",
              "3196 2024-09-23 19:35:00  220.47  220.4900  220.32  220.3200   126.0\n",
              "3197 2024-09-23 19:45:00  220.40  220.4000  220.25  220.2500    24.0\n",
              "3198 2024-09-23 19:55:00  220.40  220.4900  220.40  220.4700   278.0\n",
              "\n",
              "[3199 rows x 6 columns]"
            ],
            "text/html": [
              "\n",
              "  <div id=\"df-7f6c9d0a-4283-424e-a95e-8c5da363ee54\" class=\"colab-df-container\">\n",
              "    <div>\n",
              "<style scoped>\n",
              "    .dataframe tbody tr th:only-of-type {\n",
              "        vertical-align: middle;\n",
              "    }\n",
              "\n",
              "    .dataframe tbody tr th {\n",
              "        vertical-align: top;\n",
              "    }\n",
              "\n",
              "    .dataframe thead th {\n",
              "        text-align: right;\n",
              "    }\n",
              "</style>\n",
              "<table border=\"1\" class=\"dataframe\">\n",
              "  <thead>\n",
              "    <tr style=\"text-align: right;\">\n",
              "      <th></th>\n",
              "      <th>date</th>\n",
              "      <th>open</th>\n",
              "      <th>high</th>\n",
              "      <th>low</th>\n",
              "      <th>close</th>\n",
              "      <th>volume</th>\n",
              "    </tr>\n",
              "  </thead>\n",
              "  <tbody>\n",
              "    <tr>\n",
              "      <th>0</th>\n",
              "      <td>2024-08-26 04:00:00</td>\n",
              "      <td>196.20</td>\n",
              "      <td>196.2000</td>\n",
              "      <td>196.00</td>\n",
              "      <td>196.0000</td>\n",
              "      <td>6.0</td>\n",
              "    </tr>\n",
              "    <tr>\n",
              "      <th>1</th>\n",
              "      <td>2024-08-26 04:05:00</td>\n",
              "      <td>195.80</td>\n",
              "      <td>196.3800</td>\n",
              "      <td>195.68</td>\n",
              "      <td>196.2800</td>\n",
              "      <td>176.0</td>\n",
              "    </tr>\n",
              "    <tr>\n",
              "      <th>2</th>\n",
              "      <td>2024-08-26 04:35:00</td>\n",
              "      <td>195.98</td>\n",
              "      <td>195.9800</td>\n",
              "      <td>195.98</td>\n",
              "      <td>195.9800</td>\n",
              "      <td>19.0</td>\n",
              "    </tr>\n",
              "    <tr>\n",
              "      <th>3</th>\n",
              "      <td>2024-08-26 04:40:00</td>\n",
              "      <td>196.28</td>\n",
              "      <td>196.2800</td>\n",
              "      <td>196.28</td>\n",
              "      <td>196.2800</td>\n",
              "      <td>1.0</td>\n",
              "    </tr>\n",
              "    <tr>\n",
              "      <th>4</th>\n",
              "      <td>2024-08-26 05:20:00</td>\n",
              "      <td>195.98</td>\n",
              "      <td>195.9800</td>\n",
              "      <td>195.98</td>\n",
              "      <td>195.9800</td>\n",
              "      <td>1.0</td>\n",
              "    </tr>\n",
              "    <tr>\n",
              "      <th>...</th>\n",
              "      <td>...</td>\n",
              "      <td>...</td>\n",
              "      <td>...</td>\n",
              "      <td>...</td>\n",
              "      <td>...</td>\n",
              "      <td>...</td>\n",
              "    </tr>\n",
              "    <tr>\n",
              "      <th>3194</th>\n",
              "      <td>2024-09-23 19:25:00</td>\n",
              "      <td>220.40</td>\n",
              "      <td>220.4045</td>\n",
              "      <td>220.40</td>\n",
              "      <td>220.4045</td>\n",
              "      <td>7.0</td>\n",
              "    </tr>\n",
              "    <tr>\n",
              "      <th>3195</th>\n",
              "      <td>2024-09-23 19:30:00</td>\n",
              "      <td>220.48</td>\n",
              "      <td>220.4800</td>\n",
              "      <td>220.40</td>\n",
              "      <td>220.4000</td>\n",
              "      <td>14.0</td>\n",
              "    </tr>\n",
              "    <tr>\n",
              "      <th>3196</th>\n",
              "      <td>2024-09-23 19:35:00</td>\n",
              "      <td>220.47</td>\n",
              "      <td>220.4900</td>\n",
              "      <td>220.32</td>\n",
              "      <td>220.3200</td>\n",
              "      <td>126.0</td>\n",
              "    </tr>\n",
              "    <tr>\n",
              "      <th>3197</th>\n",
              "      <td>2024-09-23 19:45:00</td>\n",
              "      <td>220.40</td>\n",
              "      <td>220.4000</td>\n",
              "      <td>220.25</td>\n",
              "      <td>220.2500</td>\n",
              "      <td>24.0</td>\n",
              "    </tr>\n",
              "    <tr>\n",
              "      <th>3198</th>\n",
              "      <td>2024-09-23 19:55:00</td>\n",
              "      <td>220.40</td>\n",
              "      <td>220.4900</td>\n",
              "      <td>220.40</td>\n",
              "      <td>220.4700</td>\n",
              "      <td>278.0</td>\n",
              "    </tr>\n",
              "  </tbody>\n",
              "</table>\n",
              "<p>3199 rows × 6 columns</p>\n",
              "</div>\n",
              "    <div class=\"colab-df-buttons\">\n",
              "\n",
              "  <div class=\"colab-df-container\">\n",
              "    <button class=\"colab-df-convert\" onclick=\"convertToInteractive('df-7f6c9d0a-4283-424e-a95e-8c5da363ee54')\"\n",
              "            title=\"Convert this dataframe to an interactive table.\"\n",
              "            style=\"display:none;\">\n",
              "\n",
              "  <svg xmlns=\"http://www.w3.org/2000/svg\" height=\"24px\" viewBox=\"0 -960 960 960\">\n",
              "    <path d=\"M120-120v-720h720v720H120Zm60-500h600v-160H180v160Zm220 220h160v-160H400v160Zm0 220h160v-160H400v160ZM180-400h160v-160H180v160Zm440 0h160v-160H620v160ZM180-180h160v-160H180v160Zm440 0h160v-160H620v160Z\"/>\n",
              "  </svg>\n",
              "    </button>\n",
              "\n",
              "  <style>\n",
              "    .colab-df-container {\n",
              "      display:flex;\n",
              "      gap: 12px;\n",
              "    }\n",
              "\n",
              "    .colab-df-convert {\n",
              "      background-color: #E8F0FE;\n",
              "      border: none;\n",
              "      border-radius: 50%;\n",
              "      cursor: pointer;\n",
              "      display: none;\n",
              "      fill: #1967D2;\n",
              "      height: 32px;\n",
              "      padding: 0 0 0 0;\n",
              "      width: 32px;\n",
              "    }\n",
              "\n",
              "    .colab-df-convert:hover {\n",
              "      background-color: #E2EBFA;\n",
              "      box-shadow: 0px 1px 2px rgba(60, 64, 67, 0.3), 0px 1px 3px 1px rgba(60, 64, 67, 0.15);\n",
              "      fill: #174EA6;\n",
              "    }\n",
              "\n",
              "    .colab-df-buttons div {\n",
              "      margin-bottom: 4px;\n",
              "    }\n",
              "\n",
              "    [theme=dark] .colab-df-convert {\n",
              "      background-color: #3B4455;\n",
              "      fill: #D2E3FC;\n",
              "    }\n",
              "\n",
              "    [theme=dark] .colab-df-convert:hover {\n",
              "      background-color: #434B5C;\n",
              "      box-shadow: 0px 1px 3px 1px rgba(0, 0, 0, 0.15);\n",
              "      filter: drop-shadow(0px 1px 2px rgba(0, 0, 0, 0.3));\n",
              "      fill: #FFFFFF;\n",
              "    }\n",
              "  </style>\n",
              "\n",
              "    <script>\n",
              "      const buttonEl =\n",
              "        document.querySelector('#df-7f6c9d0a-4283-424e-a95e-8c5da363ee54 button.colab-df-convert');\n",
              "      buttonEl.style.display =\n",
              "        google.colab.kernel.accessAllowed ? 'block' : 'none';\n",
              "\n",
              "      async function convertToInteractive(key) {\n",
              "        const element = document.querySelector('#df-7f6c9d0a-4283-424e-a95e-8c5da363ee54');\n",
              "        const dataTable =\n",
              "          await google.colab.kernel.invokeFunction('convertToInteractive',\n",
              "                                                    [key], {});\n",
              "        if (!dataTable) return;\n",
              "\n",
              "        const docLinkHtml = 'Like what you see? Visit the ' +\n",
              "          '<a target=\"_blank\" href=https://colab.research.google.com/notebooks/data_table.ipynb>data table notebook</a>'\n",
              "          + ' to learn more about interactive tables.';\n",
              "        element.innerHTML = '';\n",
              "        dataTable['output_type'] = 'display_data';\n",
              "        await google.colab.output.renderOutput(dataTable, element);\n",
              "        const docLink = document.createElement('div');\n",
              "        docLink.innerHTML = docLinkHtml;\n",
              "        element.appendChild(docLink);\n",
              "      }\n",
              "    </script>\n",
              "  </div>\n",
              "\n",
              "\n",
              "<div id=\"df-f72eb88c-5a87-4f41-ba3f-c6b7ce3850df\">\n",
              "  <button class=\"colab-df-quickchart\" onclick=\"quickchart('df-f72eb88c-5a87-4f41-ba3f-c6b7ce3850df')\"\n",
              "            title=\"Suggest charts\"\n",
              "            style=\"display:none;\">\n",
              "\n",
              "<svg xmlns=\"http://www.w3.org/2000/svg\" height=\"24px\"viewBox=\"0 0 24 24\"\n",
              "     width=\"24px\">\n",
              "    <g>\n",
              "        <path d=\"M19 3H5c-1.1 0-2 .9-2 2v14c0 1.1.9 2 2 2h14c1.1 0 2-.9 2-2V5c0-1.1-.9-2-2-2zM9 17H7v-7h2v7zm4 0h-2V7h2v10zm4 0h-2v-4h2v4z\"/>\n",
              "    </g>\n",
              "</svg>\n",
              "  </button>\n",
              "\n",
              "<style>\n",
              "  .colab-df-quickchart {\n",
              "      --bg-color: #E8F0FE;\n",
              "      --fill-color: #1967D2;\n",
              "      --hover-bg-color: #E2EBFA;\n",
              "      --hover-fill-color: #174EA6;\n",
              "      --disabled-fill-color: #AAA;\n",
              "      --disabled-bg-color: #DDD;\n",
              "  }\n",
              "\n",
              "  [theme=dark] .colab-df-quickchart {\n",
              "      --bg-color: #3B4455;\n",
              "      --fill-color: #D2E3FC;\n",
              "      --hover-bg-color: #434B5C;\n",
              "      --hover-fill-color: #FFFFFF;\n",
              "      --disabled-bg-color: #3B4455;\n",
              "      --disabled-fill-color: #666;\n",
              "  }\n",
              "\n",
              "  .colab-df-quickchart {\n",
              "    background-color: var(--bg-color);\n",
              "    border: none;\n",
              "    border-radius: 50%;\n",
              "    cursor: pointer;\n",
              "    display: none;\n",
              "    fill: var(--fill-color);\n",
              "    height: 32px;\n",
              "    padding: 0;\n",
              "    width: 32px;\n",
              "  }\n",
              "\n",
              "  .colab-df-quickchart:hover {\n",
              "    background-color: var(--hover-bg-color);\n",
              "    box-shadow: 0 1px 2px rgba(60, 64, 67, 0.3), 0 1px 3px 1px rgba(60, 64, 67, 0.15);\n",
              "    fill: var(--button-hover-fill-color);\n",
              "  }\n",
              "\n",
              "  .colab-df-quickchart-complete:disabled,\n",
              "  .colab-df-quickchart-complete:disabled:hover {\n",
              "    background-color: var(--disabled-bg-color);\n",
              "    fill: var(--disabled-fill-color);\n",
              "    box-shadow: none;\n",
              "  }\n",
              "\n",
              "  .colab-df-spinner {\n",
              "    border: 2px solid var(--fill-color);\n",
              "    border-color: transparent;\n",
              "    border-bottom-color: var(--fill-color);\n",
              "    animation:\n",
              "      spin 1s steps(1) infinite;\n",
              "  }\n",
              "\n",
              "  @keyframes spin {\n",
              "    0% {\n",
              "      border-color: transparent;\n",
              "      border-bottom-color: var(--fill-color);\n",
              "      border-left-color: var(--fill-color);\n",
              "    }\n",
              "    20% {\n",
              "      border-color: transparent;\n",
              "      border-left-color: var(--fill-color);\n",
              "      border-top-color: var(--fill-color);\n",
              "    }\n",
              "    30% {\n",
              "      border-color: transparent;\n",
              "      border-left-color: var(--fill-color);\n",
              "      border-top-color: var(--fill-color);\n",
              "      border-right-color: var(--fill-color);\n",
              "    }\n",
              "    40% {\n",
              "      border-color: transparent;\n",
              "      border-right-color: var(--fill-color);\n",
              "      border-top-color: var(--fill-color);\n",
              "    }\n",
              "    60% {\n",
              "      border-color: transparent;\n",
              "      border-right-color: var(--fill-color);\n",
              "    }\n",
              "    80% {\n",
              "      border-color: transparent;\n",
              "      border-right-color: var(--fill-color);\n",
              "      border-bottom-color: var(--fill-color);\n",
              "    }\n",
              "    90% {\n",
              "      border-color: transparent;\n",
              "      border-bottom-color: var(--fill-color);\n",
              "    }\n",
              "  }\n",
              "</style>\n",
              "\n",
              "  <script>\n",
              "    async function quickchart(key) {\n",
              "      const quickchartButtonEl =\n",
              "        document.querySelector('#' + key + ' button');\n",
              "      quickchartButtonEl.disabled = true;  // To prevent multiple clicks.\n",
              "      quickchartButtonEl.classList.add('colab-df-spinner');\n",
              "      try {\n",
              "        const charts = await google.colab.kernel.invokeFunction(\n",
              "            'suggestCharts', [key], {});\n",
              "      } catch (error) {\n",
              "        console.error('Error during call to suggestCharts:', error);\n",
              "      }\n",
              "      quickchartButtonEl.classList.remove('colab-df-spinner');\n",
              "      quickchartButtonEl.classList.add('colab-df-quickchart-complete');\n",
              "    }\n",
              "    (() => {\n",
              "      let quickchartButtonEl =\n",
              "        document.querySelector('#df-f72eb88c-5a87-4f41-ba3f-c6b7ce3850df button');\n",
              "      quickchartButtonEl.style.display =\n",
              "        google.colab.kernel.accessAllowed ? 'block' : 'none';\n",
              "    })();\n",
              "  </script>\n",
              "</div>\n",
              "\n",
              "  <div id=\"id_0ab70cd9-7bc1-468d-ad47-138661f5469e\">\n",
              "    <style>\n",
              "      .colab-df-generate {\n",
              "        background-color: #E8F0FE;\n",
              "        border: none;\n",
              "        border-radius: 50%;\n",
              "        cursor: pointer;\n",
              "        display: none;\n",
              "        fill: #1967D2;\n",
              "        height: 32px;\n",
              "        padding: 0 0 0 0;\n",
              "        width: 32px;\n",
              "      }\n",
              "\n",
              "      .colab-df-generate:hover {\n",
              "        background-color: #E2EBFA;\n",
              "        box-shadow: 0px 1px 2px rgba(60, 64, 67, 0.3), 0px 1px 3px 1px rgba(60, 64, 67, 0.15);\n",
              "        fill: #174EA6;\n",
              "      }\n",
              "\n",
              "      [theme=dark] .colab-df-generate {\n",
              "        background-color: #3B4455;\n",
              "        fill: #D2E3FC;\n",
              "      }\n",
              "\n",
              "      [theme=dark] .colab-df-generate:hover {\n",
              "        background-color: #434B5C;\n",
              "        box-shadow: 0px 1px 3px 1px rgba(0, 0, 0, 0.15);\n",
              "        filter: drop-shadow(0px 1px 2px rgba(0, 0, 0, 0.3));\n",
              "        fill: #FFFFFF;\n",
              "      }\n",
              "    </style>\n",
              "    <button class=\"colab-df-generate\" onclick=\"generateWithVariable('data')\"\n",
              "            title=\"Generate code using this dataframe.\"\n",
              "            style=\"display:none;\">\n",
              "\n",
              "  <svg xmlns=\"http://www.w3.org/2000/svg\" height=\"24px\"viewBox=\"0 0 24 24\"\n",
              "       width=\"24px\">\n",
              "    <path d=\"M7,19H8.4L18.45,9,17,7.55,7,17.6ZM5,21V16.75L18.45,3.32a2,2,0,0,1,2.83,0l1.4,1.43a1.91,1.91,0,0,1,.58,1.4,1.91,1.91,0,0,1-.58,1.4L9.25,21ZM18.45,9,17,7.55Zm-12,3A5.31,5.31,0,0,0,4.9,8.1,5.31,5.31,0,0,0,1,6.5,5.31,5.31,0,0,0,4.9,4.9,5.31,5.31,0,0,0,6.5,1,5.31,5.31,0,0,0,8.1,4.9,5.31,5.31,0,0,0,12,6.5,5.46,5.46,0,0,0,6.5,12Z\"/>\n",
              "  </svg>\n",
              "    </button>\n",
              "    <script>\n",
              "      (() => {\n",
              "      const buttonEl =\n",
              "        document.querySelector('#id_0ab70cd9-7bc1-468d-ad47-138661f5469e button.colab-df-generate');\n",
              "      buttonEl.style.display =\n",
              "        google.colab.kernel.accessAllowed ? 'block' : 'none';\n",
              "\n",
              "      buttonEl.onclick = () => {\n",
              "        google.colab.notebook.generateWithVariable('data');\n",
              "      }\n",
              "      })();\n",
              "    </script>\n",
              "  </div>\n",
              "\n",
              "    </div>\n",
              "  </div>\n"
            ],
            "application/vnd.google.colaboratory.intrinsic+json": {
              "type": "dataframe",
              "variable_name": "data",
              "summary": "{\n  \"name\": \"data\",\n  \"rows\": 3199,\n  \"fields\": [\n    {\n      \"column\": \"date\",\n      \"properties\": {\n        \"dtype\": \"date\",\n        \"min\": \"2024-08-26 04:00:00\",\n        \"max\": \"2024-09-23 19:55:00\",\n        \"num_unique_values\": 3199,\n        \"samples\": [\n          \"2024-09-17 12:00:00\",\n          \"2024-09-03 19:45:00\",\n          \"2024-08-30 04:40:00\"\n        ],\n        \"semantic_type\": \"\",\n        \"description\": \"\"\n      }\n    },\n    {\n      \"column\": \"open\",\n      \"properties\": {\n        \"dtype\": \"number\",\n        \"std\": 7.232099724920245,\n        \"min\": 195.424,\n        \"max\": 220.69,\n        \"num_unique_values\": 1665,\n        \"samples\": [\n          209.79,\n          210.11,\n          202.6375\n        ],\n        \"semantic_type\": \"\",\n        \"description\": \"\"\n      }\n    },\n    {\n      \"column\": \"high\",\n      \"properties\": {\n        \"dtype\": \"number\",\n        \"std\": 7.236009926568048,\n        \"min\": 195.5,\n        \"max\": 220.69,\n        \"num_unique_values\": 1607,\n        \"samples\": [\n          203.72,\n          214.54,\n          198.92\n        ],\n        \"semantic_type\": \"\",\n        \"description\": \"\"\n      }\n    },\n    {\n      \"column\": \"low\",\n      \"properties\": {\n        \"dtype\": \"number\",\n        \"std\": 7.23273426317221,\n        \"min\": 184.36,\n        \"max\": 220.5,\n        \"num_unique_values\": 1576,\n        \"samples\": [\n          213.6,\n          205.7,\n          217.37\n        ],\n        \"semantic_type\": \"\",\n        \"description\": \"\"\n      }\n    },\n    {\n      \"column\": \"close\",\n      \"properties\": {\n        \"dtype\": \"number\",\n        \"std\": 7.2298295466509,\n        \"min\": 195.4,\n        \"max\": 220.67,\n        \"num_unique_values\": 1696,\n        \"samples\": [\n          203.97,\n          198.56,\n          198.79\n        ],\n        \"semantic_type\": \"\",\n        \"description\": \"\"\n      }\n    },\n    {\n      \"column\": \"volume\",\n      \"properties\": {\n        \"dtype\": \"number\",\n        \"std\": 245172.72622613312,\n        \"min\": 1.0,\n        \"max\": 7909959.0,\n        \"num_unique_values\": 2079,\n        \"samples\": [\n          51511.0,\n          18823.0,\n          53680.0\n        ],\n        \"semantic_type\": \"\",\n        \"description\": \"\"\n      }\n    }\n  ]\n}"
            }
          },
          "metadata": {},
          "execution_count": 81
        }
      ]
    },
    {
      "cell_type": "markdown",
      "source": [
        "#2. Dividir datos en conjunto de entrenamiento y prueba\n",
        "Usa las columnas relevantes como características (X):\n"
      ],
      "metadata": {
        "id": "jbt4p-u_lerb"
      }
    },
    {
      "cell_type": "code",
      "source": [
        "X = data[['open', 'high', 'low', 'volume']]\n",
        "y = data['close']\n",
        "\n",
        "X_train, X_test, y_train, y_test = train_test_split(X, y, test_size=0.2, shuffle=False)\n"
      ],
      "metadata": {
        "id": "rwuI4RJ3lk_k"
      },
      "execution_count": 82,
      "outputs": []
    },
    {
      "cell_type": "markdown",
      "source": [
        "Supongamos que ahora quieres predecir el precio de cierre basándote en las características históricas del precio (apertura, máximo, mínimo, volumen). Utilizaremos regresión lineal para predecir el precio de cierre."
      ],
      "metadata": {
        "id": "SM0xyJGFos-Q"
      }
    },
    {
      "cell_type": "markdown",
      "source": [
        "#3. Random Forest con ajuste de hiperparámetros\n",
        "Utiliza GridSearchCV para ajustar los hiperparámetros:"
      ],
      "metadata": {
        "id": "WXstb3CUlx-v"
      }
    },
    {
      "cell_type": "code",
      "source": [
        "rf = RandomForestRegressor()\n",
        "\n",
        "# Definir los parámetros para la búsqueda\n",
        "param_grid = {\n",
        "    'n_estimators': [50, 100, 200],\n",
        "    'max_depth': [None, 10, 20],\n",
        "    'min_samples_split': [2, 5, 10]\n",
        "}\n",
        "\n",
        "grid_search_rf = GridSearchCV(estimator=rf, param_grid=param_grid, cv=5, scoring='neg_mean_squared_error', verbose=1)\n",
        "grid_search_rf.fit(X_train, y_train)\n",
        "\n",
        "# Mejor modelo\n",
        "best_rf = grid_search_rf.best_estimator_\n",
        "\n",
        "# Predicciones\n",
        "rf_preds = best_rf.predict(X_test)\n",
        "\n",
        "# Evaluación\n",
        "rf_rmse = np.sqrt(mean_squared_error(y_test, rf_preds))\n",
        "print(f'Random Forest RMSE: {rf_rmse}')\n"
      ],
      "metadata": {
        "colab": {
          "base_uri": "https://localhost:8080/"
        },
        "id": "3LFEqhsbl3Uq",
        "outputId": "06046f34-76d5-48b6-f159-79e02cffe205"
      },
      "execution_count": 83,
      "outputs": [
        {
          "output_type": "stream",
          "name": "stdout",
          "text": [
            "Fitting 5 folds for each of 27 candidates, totalling 135 fits\n",
            "Random Forest RMSE: 1.0794103709877025\n"
          ]
        }
      ]
    },
    {
      "cell_type": "markdown",
      "source": [
        "#4. XGBoost con ajuste de hiperparámetros\n",
        "Ajusta el modelo de XGBoost de manera similar:"
      ],
      "metadata": {
        "id": "ok6KqxUtmCR9"
      }
    },
    {
      "cell_type": "code",
      "source": [
        "xgb = XGBRegressor(objective='reg:squarederror')\n",
        "\n",
        "param_grid_xgb = {\n",
        "    'n_estimators': [50, 100, 200],\n",
        "    'learning_rate': [0.01, 0.1, 0.3],\n",
        "    'max_depth': [3, 5, 7]\n",
        "}\n",
        "\n",
        "grid_search_xgb = GridSearchCV(estimator=xgb, param_grid=param_grid_xgb, cv=5, scoring='neg_mean_squared_error', verbose=1)\n",
        "grid_search_xgb.fit(X_train, y_train)\n",
        "\n",
        "# Mejor modelo\n",
        "best_xgb = grid_search_xgb.best_estimator_\n",
        "\n",
        "# Predicciones\n",
        "xgb_preds = best_xgb.predict(X_test)\n",
        "\n",
        "# Evaluación\n",
        "xgb_rmse = np.sqrt(mean_squared_error(y_test, xgb_preds))\n",
        "print(f'XGBoost RMSE: {xgb_rmse}')\n"
      ],
      "metadata": {
        "colab": {
          "base_uri": "https://localhost:8080/"
        },
        "id": "wmYTY0F8mEnS",
        "outputId": "47b956bd-42c0-4727-e3e5-f4b033674e09"
      },
      "execution_count": 84,
      "outputs": [
        {
          "output_type": "stream",
          "name": "stdout",
          "text": [
            "Fitting 5 folds for each of 27 candidates, totalling 135 fits\n",
            "XGBoost RMSE: 1.207961123950928\n"
          ]
        }
      ]
    },
    {
      "cell_type": "markdown",
      "source": [
        "Podemos agregar algunos modelos de regresión adicionales, como Regresión Lineal, Regresión Ridge y Regresión Lasso. A continuación veremos como implementarlos en el contexto de datos multivariados para IBM, junto con el ajuste de hiperparámetros y la validación cruzada."
      ],
      "metadata": {
        "id": "DNMZYg__pVeS"
      }
    },
    {
      "cell_type": "markdown",
      "source": [
        "#7. Importar bibliotecas adicionales"
      ],
      "metadata": {
        "id": "tj6HYHhFpjZz"
      }
    },
    {
      "cell_type": "code",
      "source": [
        "from sklearn.linear_model import LinearRegression, Ridge, Lasso\n",
        "from sklearn.model_selection import cross_val_score\n"
      ],
      "metadata": {
        "id": "zPSZ_xMMpRx3"
      },
      "execution_count": 85,
      "outputs": []
    },
    {
      "cell_type": "markdown",
      "source": [
        "# 8. Regresión Lineal\n",
        "Entrenamos y evaluamos el modelo de regresión lineal:"
      ],
      "metadata": {
        "id": "qwibX73_pnHG"
      }
    },
    {
      "cell_type": "code",
      "source": [
        "# Regresión Lineal\n",
        "lin_reg = LinearRegression()\n",
        "lin_reg.fit(X_train, y_train)\n",
        "\n",
        "# Predicciones\n",
        "lin_reg_preds = lin_reg.predict(X_test)\n",
        "\n",
        "# Evaluación\n",
        "lin_reg_rmse = np.sqrt(mean_squared_error(y_test, lin_reg_preds))\n",
        "print(f'Linear Regression RMSE: {lin_reg_rmse}')\n",
        "\n",
        "# Validación cruzada\n",
        "lin_reg_cv_scores = cross_val_score(lin_reg, X, y, cv=5, scoring='neg_mean_squared_error')\n",
        "lin_reg_cv_rmse = np.sqrt(-lin_reg_cv_scores.mean())\n",
        "print(f'Linear Regression CV RMSE: {lin_reg_cv_rmse}')\n"
      ],
      "metadata": {
        "colab": {
          "base_uri": "https://localhost:8080/"
        },
        "id": "gP8X8BBTp0ma",
        "outputId": "f4abb0df-ef88-4673-cefa-1294ed8122b4"
      },
      "execution_count": 86,
      "outputs": [
        {
          "output_type": "stream",
          "name": "stdout",
          "text": [
            "Linear Regression RMSE: 0.8088837228804429\n",
            "Linear Regression CV RMSE: 0.4153270417012365\n"
          ]
        }
      ]
    },
    {
      "cell_type": "markdown",
      "source": [
        "# 9. Regresión Ridge\n",
        "Ajusta y evalúa el modelo de regresión Ridge:"
      ],
      "metadata": {
        "id": "1hykbWAEp7EK"
      }
    },
    {
      "cell_type": "code",
      "source": [
        "# Regresión Ridge\n",
        "ridge = Ridge()\n",
        "param_grid_ridge = {\n",
        "    'alpha': [0.1, 1.0, 10.0, 100.0]\n",
        "}\n",
        "\n",
        "grid_search_ridge = GridSearchCV(estimator=ridge, param_grid=param_grid_ridge, cv=5, scoring='neg_mean_squared_error', verbose=1)\n",
        "grid_search_ridge.fit(X_train, y_train)\n",
        "\n",
        "# Mejor modelo\n",
        "best_ridge = grid_search_ridge.best_estimator_\n",
        "\n",
        "# Predicciones\n",
        "ridge_preds = best_ridge.predict(X_test)\n",
        "\n",
        "# Evaluación\n",
        "ridge_rmse = np.sqrt(mean_squared_error(y_test, ridge_preds))\n",
        "print(f'Ridge Regression RMSE: {ridge_rmse}')\n",
        "\n",
        "# Validación cruzada\n",
        "ridge_cv_scores = cross_val_score(best_ridge, X, y, cv=5, scoring='neg_mean_squared_error')\n",
        "ridge_cv_rmse = np.sqrt(-ridge_cv_scores.mean())\n",
        "print(f'Ridge Regression CV RMSE: {ridge_cv_rmse}')\n"
      ],
      "metadata": {
        "colab": {
          "base_uri": "https://localhost:8080/"
        },
        "id": "vrSGVWJ3qA1G",
        "outputId": "cddda78c-4398-4e75-a5e7-ac5e45f36de0"
      },
      "execution_count": 87,
      "outputs": [
        {
          "output_type": "stream",
          "name": "stdout",
          "text": [
            "Fitting 5 folds for each of 4 candidates, totalling 20 fits\n",
            "Ridge Regression RMSE: 0.7700246596503282\n",
            "Ridge Regression CV RMSE: 0.39967593025363657\n"
          ]
        }
      ]
    },
    {
      "cell_type": "markdown",
      "source": [
        "# 4. Regresión Lasso\n",
        "Ajusta y evalúa el modelo de regresión Lasso:"
      ],
      "metadata": {
        "id": "N0h04mgyqFzi"
      }
    },
    {
      "cell_type": "code",
      "source": [
        "# Regresión Lasso\n",
        "lasso = Lasso()\n",
        "param_grid_lasso = {\n",
        "    'alpha': [0.1, 1.0, 10.0, 100.0]\n",
        "}\n",
        "\n",
        "grid_search_lasso = GridSearchCV(estimator=lasso, param_grid=param_grid_lasso, cv=5, scoring='neg_mean_squared_error', verbose=1)\n",
        "grid_search_lasso.fit(X_train, y_train)\n",
        "\n",
        "# Mejor modelo\n",
        "best_lasso = grid_search_lasso.best_estimator_\n",
        "\n",
        "# Predicciones\n",
        "lasso_preds = best_lasso.predict(X_test)\n",
        "\n",
        "# Evaluación\n",
        "lasso_rmse = np.sqrt(mean_squared_error(y_test, lasso_preds))\n",
        "print(f'Lasso Regression RMSE: {lasso_rmse}')\n",
        "\n",
        "# Validación cruzada\n",
        "lasso_cv_scores = cross_val_score(best_lasso, X, y, cv=5, scoring='neg_mean_squared_error')\n",
        "lasso_cv_rmse = np.sqrt(-lasso_cv_scores.mean())\n",
        "print(f'Lasso Regression CV RMSE: {lasso_cv_rmse}')\n"
      ],
      "metadata": {
        "colab": {
          "base_uri": "https://localhost:8080/"
        },
        "id": "6-bwEFi9qHTa",
        "outputId": "9491ad24-10f1-4430-c3ec-3a3290196009"
      },
      "execution_count": 88,
      "outputs": [
        {
          "output_type": "stream",
          "name": "stdout",
          "text": [
            "Fitting 5 folds for each of 4 candidates, totalling 20 fits\n"
          ]
        },
        {
          "output_type": "stream",
          "name": "stderr",
          "text": [
            "/usr/local/lib/python3.10/dist-packages/sklearn/linear_model/_coordinate_descent.py:697: ConvergenceWarning: Objective did not converge. You might want to increase the number of iterations, check the scale of the features or consider increasing regularisation. Duality gap: 1.522e+01, tolerance: 7.129e+00\n",
            "  model = cd_fast.enet_coordinate_descent(\n",
            "/usr/local/lib/python3.10/dist-packages/sklearn/linear_model/_coordinate_descent.py:697: ConvergenceWarning: Objective did not converge. You might want to increase the number of iterations, check the scale of the features or consider increasing regularisation. Duality gap: 2.419e+01, tolerance: 8.959e+00\n",
            "  model = cd_fast.enet_coordinate_descent(\n",
            "/usr/local/lib/python3.10/dist-packages/sklearn/linear_model/_coordinate_descent.py:697: ConvergenceWarning: Objective did not converge. You might want to increase the number of iterations, check the scale of the features or consider increasing regularisation. Duality gap: 2.633e+01, tolerance: 9.533e+00\n",
            "  model = cd_fast.enet_coordinate_descent(\n",
            "/usr/local/lib/python3.10/dist-packages/sklearn/linear_model/_coordinate_descent.py:697: ConvergenceWarning: Objective did not converge. You might want to increase the number of iterations, check the scale of the features or consider increasing regularisation. Duality gap: 2.751e+01, tolerance: 9.060e+00\n",
            "  model = cd_fast.enet_coordinate_descent(\n",
            "/usr/local/lib/python3.10/dist-packages/sklearn/linear_model/_coordinate_descent.py:697: ConvergenceWarning: Objective did not converge. You might want to increase the number of iterations, check the scale of the features or consider increasing regularisation. Duality gap: 1.435e+01, tolerance: 7.129e+00\n",
            "  model = cd_fast.enet_coordinate_descent(\n",
            "/usr/local/lib/python3.10/dist-packages/sklearn/linear_model/_coordinate_descent.py:697: ConvergenceWarning: Objective did not converge. You might want to increase the number of iterations, check the scale of the features or consider increasing regularisation. Duality gap: 2.339e+01, tolerance: 8.959e+00\n",
            "  model = cd_fast.enet_coordinate_descent(\n",
            "/usr/local/lib/python3.10/dist-packages/sklearn/linear_model/_coordinate_descent.py:697: ConvergenceWarning: Objective did not converge. You might want to increase the number of iterations, check the scale of the features or consider increasing regularisation. Duality gap: 2.546e+01, tolerance: 9.533e+00\n",
            "  model = cd_fast.enet_coordinate_descent(\n",
            "/usr/local/lib/python3.10/dist-packages/sklearn/linear_model/_coordinate_descent.py:697: ConvergenceWarning: Objective did not converge. You might want to increase the number of iterations, check the scale of the features or consider increasing regularisation. Duality gap: 2.650e+01, tolerance: 9.060e+00\n",
            "  model = cd_fast.enet_coordinate_descent(\n",
            "/usr/local/lib/python3.10/dist-packages/sklearn/linear_model/_coordinate_descent.py:697: ConvergenceWarning: Objective did not converge. You might want to increase the number of iterations, check the scale of the features or consider increasing regularisation. Duality gap: 1.425e+01, tolerance: 8.959e+00\n",
            "  model = cd_fast.enet_coordinate_descent(\n",
            "/usr/local/lib/python3.10/dist-packages/sklearn/linear_model/_coordinate_descent.py:697: ConvergenceWarning: Objective did not converge. You might want to increase the number of iterations, check the scale of the features or consider increasing regularisation. Duality gap: 1.561e+01, tolerance: 9.060e+00\n",
            "  model = cd_fast.enet_coordinate_descent(\n"
          ]
        },
        {
          "output_type": "stream",
          "name": "stdout",
          "text": [
            "Lasso Regression RMSE: 0.48665228625213935\n",
            "Lasso Regression CV RMSE: 0.29833992441945717\n"
          ]
        },
        {
          "output_type": "stream",
          "name": "stderr",
          "text": [
            "/usr/local/lib/python3.10/dist-packages/sklearn/linear_model/_coordinate_descent.py:697: ConvergenceWarning: Objective did not converge. You might want to increase the number of iterations, check the scale of the features or consider increasing regularisation. Duality gap: 2.606e+01, tolerance: 1.001e+01\n",
            "  model = cd_fast.enet_coordinate_descent(\n",
            "/usr/local/lib/python3.10/dist-packages/sklearn/linear_model/_coordinate_descent.py:697: ConvergenceWarning: Objective did not converge. You might want to increase the number of iterations, check the scale of the features or consider increasing regularisation. Duality gap: 1.616e+01, tolerance: 1.561e+01\n",
            "  model = cd_fast.enet_coordinate_descent(\n",
            "/usr/local/lib/python3.10/dist-packages/sklearn/linear_model/_coordinate_descent.py:697: ConvergenceWarning: Objective did not converge. You might want to increase the number of iterations, check the scale of the features or consider increasing regularisation. Duality gap: 2.610e+01, tolerance: 1.002e+01\n",
            "  model = cd_fast.enet_coordinate_descent(\n"
          ]
        }
      ]
    },
    {
      "cell_type": "markdown",
      "source": [
        "#5. Comparar resultados\n",
        "Compara el rendimiento de todos los modelos."
      ],
      "metadata": {
        "id": "wbW5ed7NuzDj"
      }
    },
    {
      "cell_type": "code",
      "source": [
        "# Ordenar el DataFrame por RMSE de menor a mayor\n",
        "results_df_sorted = results_df.sort_values(by='RMSE')\n",
        "\n",
        "# Mostrar resultados con un formato más claro\n",
        "print(\"Resultados de RMSE de Modelos de Predicción (ordenados de menor a mayor):\\n\")\n",
        "for index, row in results_df_sorted.iterrows():\n",
        "    print(f\"{row['Modelo']:<20}: RMSE = {row['RMSE']:.4f}\")"
      ],
      "metadata": {
        "colab": {
          "base_uri": "https://localhost:8080/"
        },
        "id": "uzbL3LC2tRBB",
        "outputId": "fd0c54dd-5e73-48cf-da1e-46e901843384"
      },
      "execution_count": 89,
      "outputs": [
        {
          "output_type": "stream",
          "name": "stdout",
          "text": [
            "Resultados de RMSE de Modelos de Predicción (ordenados de menor a mayor):\n",
            "\n",
            "Regresión Lasso     : RMSE = 0.4867\n",
            "Regresión Ridge     : RMSE = 0.7700\n",
            "Regresión Lineal    : RMSE = 0.8089\n",
            "Random Forest       : RMSE = 1.0583\n",
            "XGBoost             : RMSE = 1.2080\n",
            "LSTM                : RMSE = 206.6436\n"
          ]
        }
      ]
    },
    {
      "cell_type": "markdown",
      "source": [
        "\n",
        "\n",
        "\n"
      ],
      "metadata": {
        "id": "9HnX5cx9md71"
      }
    },
    {
      "cell_type": "markdown",
      "source": [
        "# 6. Visualizar los resultados de regresión\n",
        "También puedes visualizar las predicciones de los modelos de regresión junto con los demás modelos:"
      ],
      "metadata": {
        "id": "1vyYdTGDqmUf"
      }
    },
    {
      "cell_type": "code",
      "source": [
        "plt.figure(figsize=(14,7))\n",
        "plt.plot(y_test.reset_index(drop=True), label='Real Prices', color='black')\n",
        "plt.plot(lin_reg_preds, label='Linear Regression Predictions', color='orange')\n",
        "plt.plot(ridge_preds, label='Ridge Regression Predictions', color='purple')\n",
        "plt.plot(lasso_preds, label='Lasso Regression Predictions', color='brown')\n",
        "plt.plot(rf_preds, label='Random Forest Predictions', color='blue')\n",
        "plt.plot(xgb_preds, label='XGBoost Predictions', color='red')\n",
        "plt.legend()\n",
        "plt.title('IBM Stock Price Predictions with Different Models')\n",
        "plt.show()\n"
      ],
      "metadata": {
        "colab": {
          "base_uri": "https://localhost:8080/",
          "height": 622
        },
        "id": "VxPxKL2MqmD5",
        "outputId": "d5a272ce-59f3-43dd-cf96-deee97997c9e"
      },
      "execution_count": 90,
      "outputs": [
        {
          "output_type": "display_data",
          "data": {
            "text/plain": [
              "<Figure size 1400x700 with 1 Axes>"
            ],
            "image/png": "[encoded data removed]"
          },
          "metadata": {}
        }
      ]
    }
  ]
}